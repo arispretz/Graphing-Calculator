Projectile Game
# Write your code here

import matplotlib.pyplot as plt
import random
import numpy as np


score = 0

for i in range(0,3):
    guess = input("Enter Initial velocity = \n")
    a = -4.9
    b = int(guess)
    random_num = random.randint(1,100)
    c = random_num
    vx = -b/(2*a)
    vy = a*vx**2 + b*vx + c
    xmin = int(vx)-10
    xmax = int(vx)+10
    ymin = int(vy)-10
    ymax = int(vy)+10
    xpoint = random.randint(xmin, xmax)
    ypoint = random.randint(ymin, ymax)
    x = [xpoint]
    y = [ypoint]
    points = 2*(xmax-xmin)
    x = np.linspace(xmin,xmax,points)
    y = a*x**2 + b*x + c
    fig, ax = plt.subplots()
    plt.axis([xmin,xmax,ymin,ymax]) # window size
    plt.plot([xmin,xmax],[0,0],'b') # blue x axis
    plt.plot([0,0],[ymin,ymax], 'b') # blue y axis
    plt.plot(x,y) # plot the line for the equation
    plt.plot([vx],[vy],'ro') # plot the vertex point
    plt.grid() # displays grid lines on graph
    print(" (", vx, ",", vy, ")")
    print(" ")
    plt.show()
    if guess == xpoint and guess == ypoint:
        score = score + 1

print("Your score: ", score)

Dephine Graphing Functions
# Write your code here
def menu():
    print('Options:')
    print('1. Create a table of (x,y) values')
    print('2. Solve a system of two equations without graphing')
    print('3. Solve and graph a system of equations')
    print('4. Graph two equations and plot the point of intersection')
    print('5. Given a, b and c in a quadratic equation, plot the roots and vertex')
    print('6. Shade above or below the line')
    print('7. Graph lines and zoom in or out')
    print('8. Graph table values')
    option = int(input('Please choose an option: '))

menu()

Graphing Calculator
# Write your code here

# Graph one or more functions

# Display the graph a table of (x,y) values
import numpy as np
import matplotlib.pyplot as plt
from sympy import *

def create_table_xy_values():
    print("equation: y = f*a+s")
    fs = input("Enter f and s, separated by a comma: ")
    fs_in = fs.split(",")
    f = float(fs_in[0])
    s = float(fs_in[1])
    ax = plt.subplot()
    ax.set_axis_off()
    title = "X Y values"
    cols = ('x', 'y')
    rows = [[0,0]]
    for a in range(1,10):
        rows.append([a, f*a+s])

    ax.set_title(title)
    plt.table(cellText=rows, colLabels=cols, cellLoc='center', loc='upper left')
    plt.show()



# Solve a system of two equations without graphing
from sympy import *

def solve_system_of_two_equations():
    x,y = symbols('x y')
    print("equation: 0 = f*x + sY - t")
    f_s_t_1 = input("Enter f, s and t separated by a comma: ")
    f_s_t_in1 = f_s_t_1.split(",")
    f1 = float(f_s_t_in1[0])
    s1 = float(f_s_t_in1[1])
    t1 = float(f_s_t_in1[2])

    print("equation: 0 = f*x - sY")
    fs2 = input("Enter f and s, separated by a comma: ")
    fs_in2 = fs2.split(",")
    f2 = float(fs_in2[0])
    s2 = float(fs_in2[1])

    print(linsolve([f1*x + s1*y - t1, f2*x - s2*y], (x, y)))



# Solve and graph a system of equations
from sympy import *
import matplotlib.pyplot as plt
import numpy as np

def solve_graph_system_equations():
    print("First equation: y = mx + b")
    mb_1 = input("Enter m and b, separated by a comma: ")
    mb_in1 = mb_1.split(",")
    m1 = float(mb_in1[0])
    b1 = float(mb_in1[1])

    print("Second equation: y = mx + b")
    mb_2 = input("Enter m and b, separated by a comma: ")
    mb_in2 = mb_2.split(",")
    m2 = float(mb_in2[0])
    b2 = float(mb_in2[1])

# Solve the system of equations
    x,y = symbols('x y')
    first = m1*x + b1 - y
    second = m2*x + b2 - y
    solution = linsolve([first, second], (x, y))
    x_solution = round(float(solution.args[0][0]),3)
    y_solution = round(float(solution.args[0][1]),3)

# Make sure the window includes the solution
    xmin = int(x_solution) - 20
    xmax = int(x_solution) + 20
    ymin = int(y_solution) - 20
    ymax = int(y_solution) + 20
    points = 2*(xmax-xmin)

# Define the x values once for the graph
    graph_x = np.linspace(xmin,xmax,points)

# Define the y values for the graph
    y1 = m1*graph_x + b1
    y2 = m2*graph_x + b2

    fig, ax = plt.subplots()
    plt.axis([xmin,xmax,ymin,ymax]) # window size
    plt.plot([xmin,xmax],[0,0],'b') # blue x axis
    plt.plot([0,0],[ymin,ymax], 'b') # blue y axis

# line 1
    plt.plot(graph_x, y1)

# line 2
    plt.plot(graph_x, y2)

# point
    plt.plot([x_solution],[y_solution],'ro')

    plt.show()
    print(" ")
    print("Solution: (", x_solution, ",", y_solution, ")")



# Graph two equations and plot the point of intersection
from sympy import *
import matplotlib.pyplot as plt
import numpy as np

def plot_point_intersection():
    print("First equation: y = mx + b")
    mb_1 = input("Enter m and b, separated by a comma: ")
    mb_in1 = mb_1.split(",")
    m1 = float(mb_in1[0])
    b1 = float(mb_in1[1])

    print("Second equation: y = mx + b")
    mb_2 = input("Enter m and b, separated by a comma: ")
    mb_in2 = mb_2.split(",")
    m2 = float(mb_in2[0])
    b2 = float(mb_in2[1])

# Solve the system of equations
    x,y = symbols('x y')
    first = m1*x + b1 - y
    second = m2*x + b2 - y
    solution = linsolve([first, second], (x, y))
    x_solution = round(float(solution.args[0][0]),3)
    y_solution = round(float(solution.args[0][1]),3)

# Make sure the window includes the solution
    xmin = int(x_solution) - 20
    xmax = int(x_solution) + 20
    ymin = int(y_solution) - 20
    ymax = int(y_solution) + 20
    points = 2*(xmax-xmin)

# Define the x values once for the graph
    graph_x = np.linspace(xmin,xmax,points)

# Define the y values for the graph
    y1 = m1*graph_x + b1
    y2 = m2*graph_x + b2

    fig, ax = plt.subplots()
    plt.axis([xmin,xmax,ymin,ymax]) # window size
    plt.plot([xmin,xmax],[0,0],'b') # blue x axis
    plt.plot([0,0],[ymin,ymax], 'b') # blue y axis

# line 1
    plt.plot(graph_x, y1)

# line 2
    plt.plot(graph_x, y2)

# point
    plt.plot([x_solution],[y_solution],'ro')

    plt.show()
    print(" ")
    print("Solution: (", x_solution, ",", y_solution, ")")



# Given a, b and c in a quadratic equation, plot the roots and vertex
import matplotlib.pyplot as plt
import numpy as np
import math

def whole_quadratic_equation():
# Define the three coefficients here
    a = float(input('Enter first coefficient: '))
    b = float(input('Enter second coefficient: '))
    c = float(input('Enter third coefficient: '))

    print("y = ", a, "x**2 + ", b, "x + ", c)

# Vertex
    vx = -b/(2*a)
    vy = a*(vx**2) + b*vx + c
    print("Vertex: (",vx,",",vy,")")

# Roots
    d = b**2 - 4*a*c
    if d>=0:
        root_1 = (-b + math.sqrt(d))/(2*a)
        root_2 = (-b - math.sqrt(d))/(2*a)
        print("Roots: x = ", root_1, " and x = ", root_2)
    else:
        print("No real roots")

    xmin = -10
    xmax = 10
    ymin = -10
    ymax = 10
    points = 10*(xmax-xmin)
    x = np.linspace(xmin,xmax,points)

    fig, ax = plt.subplots()
    plt.axis([xmin,xmax,ymin,ymax]) # window size
    plt.plot([xmin,xmax],[0,0],'b') # blue x axis
    plt.plot([0,0],[ymin,ymax], 'b') # blue y axis

# Graph the parabola
    y1 = a*x**2 + b*x + c
    plt.plot(x, y1)

# Plot the vertex
    plt.plot([vx],[vy], 'ro')

# Plot the roots
    plt.plot([root_1, root_2],[0,0], 'go')

    plt.show()



# Shade above or below the line
%matplotlib inline
from ipywidgets import interactive
import matplotlib.pyplot as plt
import numpy as np
import math

def shade_above_and_below_line():

# All graphing happens in this function
    a = float(input('Enter first coefficient: '))
    b = float(input('Enter second coefficient: '))
    c = float(input('Enter third coefficient: '))
    xmin = -10
    xmax = 10
    ymin = -10
    ymax = 10
    points = 10*(xmax-xmin)
    x = np.linspace(xmin,xmax,points)

    plt.axis([xmin,xmax,ymin,ymax]) # window size
    plt.plot([xmin,xmax],[0,0],'b') # x axis
    plt.plot([0,0],[ymin,ymax], 'b') # y axis

    # Parabola
    y1 = a*x**2 + b*x + c
    plt.plot(x, y1)

    # Vertex
    vx = -b/(2*a)
    vy = a*(vx**2) + b*vx + c
    plt.plot([vx],[vy], 'ro')

    # Roots
    d = b**2 - 4*a*c
    if d>=0:
        root_1 = (-b + math.sqrt(d))/(2*a)
        root_2 = (-b - math.sqrt(d))/(2*a)
        plt.plot([root_1, root_2],[0,0], 'go')

    # Set the equation as the title
    sa = str(a)
    sb = str(b)
    sc = str(c)
    h1 = "y = ", sa, "x**2 + ", sb, "x + ", sc
    h2 = ""
    for w in h1:
        h2 = h2 + w

    plt.title(h2)
    plt.show()

# Interactive creates sliders for a, b, and c values
    interactive_plot = interactive(shade_above_and_below_line, a=(1,9), b=(-9,9), c=(-9,9))
    interactive_plot



# Graph lines and zoom in or out
%matplotlib inline
from ipywidgets import interactive
import matplotlib.pyplot as plt
import numpy as np

def graph_zoom_in_and_out(zoom):

# Define the graphing function
    xmin = -zoom
    xmax = zoom
    ymin = -zoom
    ymax = zoom
    points = 10*xmax-xmin
    x = np.linspace(xmin, xmax, points)

    fig, ax = plt.subplots()
    plt.axis([xmin,xmax,ymin,ymax]) # window size
    plt.plot([xmin,xmax],[0,0],'black') # black x axis
    plt.plot([0,0],[ymin,ymax], 'black') # black y axis

    print("First equation: y = mx + b")
    mb_1 = input("Enter m and b, separated by a comma: ")
    mb_in1 = mb_1.split(",")
    m1 = float(mb_in1[0])
    b1 = float(mb_in1[1])

    print("Second equation: y = mx + b")
    mb_2 = input("Enter m and b, separated by a comma: ")
    mb_in2 = mb_2.split(",")
    m2 = float(mb_in2[0])
    b2 = float(mb_in2[1])

    # Change y1 to be any function
    y1 = m1*x + b1
    plt.plot(x, y1)
    # Plot another line here if you want
    y2 = m2*x + b2
    plt.plot(x, y2)

    ax.set_xlabel("x values")
    ax.set_ylabel("y values")
    ax.set_title("Some Graph")
    ticks = int(round((xmax-xmin)/10))
    ax.set_xticks(np.arange(xmin, xmax, ticks))
    ax.set_yticks(np.arange(ymin, ymax, ticks))
    ax.grid(True)
    plt.show()

# Set up the slider
    interactive_plot = interactive(graph_zoom_in_and_out, zoom=(1,100))
    interactive_plot



# Graph a table of x y values
import matplotlib.pyplot as plt

def graph_table_values():
    print("equation: y = f*x+s")
    fs = input("Enter f and s, separated by a comma: ")
    fs_in = fs.split(",")
    f = float(fs_in[0])
    s = float(fs_in[1])

    xmin = -10
    xmax = 10
    ymin = -10
    ymax = 10

    fig, ax = plt.subplots()
    plt.axis([xmin,xmax,ymin,ymax]) # window size
    plt.plot([xmin,xmax],[0,0],'b') # blue x axis
    plt.plot([0,0],[ymin,ymax], 'b') # blue y axis

    print("x \t y")
    for x in range(xmin, xmax+1):
        y = f*x + s
        plt.plot([x],[y], 'ro')
        print(x,"\t",y)

        plt.show()



def graphing_calculator():
    print('Options:')
    print('1. Create a table of (x,y) values')
    print('2. Solve a system of two equations without graphing')
    print('3. Solve and graph a system of equations')
    print('4. Graph two equations and plot the point of intersection')
    print('5. Given a, b and c in a quadratic equation, plot the roots and vertex')
    print('6. Shade above or below the line')
    print('7. Graph lines and zoom in or out')
    print('8. Graph table values')
    option = int(input('Please choose an option: '))

    if option == 1:
        print(create_table_xy_values())
    elif option == 2:
        print(solve_system_of_two_equations())
    elif option == 3:
        print(solve_graph_system_equations())
    elif option == 4:
        print(plot_point_intersection())
    elif option == 5:
        print(whole_quadratic_equation())
    elif option == 6:
        print(shade_above_and_below_line())
    elif option == 7:
        print(graph_zoom_in_and_out(100))
    elif option == 8:
        print(graph_table_values())

graphing_calculator()

